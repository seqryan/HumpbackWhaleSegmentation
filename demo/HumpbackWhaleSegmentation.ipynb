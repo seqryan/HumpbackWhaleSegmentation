{
  "nbformat": 4,
  "nbformat_minor": 0,
  "metadata": {
    "colab": {
      "name": "HumpbackWhaleSegmentation.ipynb",
      "provenance": [],
      "collapsed_sections": []
    },
    "kernelspec": {
      "name": "python3",
      "display_name": "Python 3"
    },
    "language_info": {
      "name": "python"
    },
    "accelerator": "GPU"
  },
  "cells": [
    {
      "cell_type": "markdown",
      "metadata": {
        "id": "PFM4Y3zd1wTE"
      },
      "source": [
        "# Prep and Setup"
      ]
    },
    {
      "cell_type": "markdown",
      "metadata": {
        "id": "dy5TYrXL1ssl"
      },
      "source": [
        "### Install Detectron2"
      ]
    },
    {
      "cell_type": "code",
      "metadata": {
        "id": "jHLweQ5A16b8"
      },
      "source": [
        "!pip install -q pyyaml==5.1\n",
        "# This is the current pytorch version on Colab. Uncomment this if Colab changes its pytorch version\n",
        "# !pip install torch==1.9.0+cu102 torchvision==0.10.0+cu102 -f https://download.pytorch.org/whl/torch_stable.html\n",
        "\n",
        "# Install detectron2 that matches the above pytorch version\n",
        "# See https://detectron2.readthedocs.io/tutorials/install.html for instructions\n",
        "!pip install -q detectron2 -f https://dl.fbaipublicfiles.com/detectron2/wheels/cu102/torch1.9/index.html\n",
        "# exit(0)  # After installation, you need to \"restart runtime\" in Colab. This line can also restart runtime"
      ],
      "execution_count": null,
      "outputs": []
    },
    {
      "cell_type": "markdown",
      "metadata": {
        "id": "YsN2AlYAOx8F"
      },
      "source": [
        "### Download code from repository"
      ]
    },
    {
      "cell_type": "code",
      "metadata": {
        "id": "WfvMUaEkPaIU"
      },
      "source": [
        "! git clone https://github.com/seqryan/HumpbackWhaleSegmentation.git"
      ],
      "execution_count": null,
      "outputs": []
    },
    {
      "cell_type": "markdown",
      "metadata": {
        "id": "iN5r3B5F4rsv"
      },
      "source": [
        "### Download dataset"
      ]
    },
    {
      "cell_type": "code",
      "metadata": {
        "id": "h6Ls6_qx4rCt"
      },
      "source": [
        "% cd /content/HumpbackWhaleSegmentation\n",
        "\n",
        "# Read instructions to generate kaggle.json file: https://www.kaggle.com/general/74235\n",
        "\n",
        "! pip install -q --upgrade --force-reinstall --no-deps kaggle\n",
        "\n",
        "from google.colab import files\n",
        "print(\"Upload kaggle.json\")\n",
        "files.upload() # Upload the kaggle.json to cwd\n",
        "\n",
        "# create ~/.kaggle folder and move the file kaggle.json to this folder\n",
        "! mkdir -p ~/.kaggle\n",
        "! mv kaggle.json ~/.kaggle/\n",
        "! chmod 600 ~/.kaggle/kaggle.json\n",
        "\n",
        "# download the dataset\n",
        "# Ensure that you agree to the terms of the competition beflore downloading the dataset to avoid 403 - Forbidden error. \n",
        "# Competition URL: https://www.kaggle.com/c/whale-categorization-playground\n",
        "! kaggle competitions download -c whale-categorization-playground\n",
        "\n",
        "# unzip and move the data to dataset directory\n",
        "! mkdir dataset\n",
        "! unzip -q whale-categorization-playground.zip -d dataset\n",
        "! rm whale-categorization-playground.zip # cleanup to save disk space"
      ],
      "execution_count": null,
      "outputs": []
    },
    {
      "cell_type": "markdown",
      "metadata": {
        "id": "BqW3U0ZE5All"
      },
      "source": [
        "## Download annotations"
      ]
    },
    {
      "cell_type": "code",
      "metadata": {
        "id": "gBvoNpgN4-cm"
      },
      "source": [
        "% cd /content/HumpbackWhaleSegmentation\n",
        "!wget https://github.com/seqryan/HumpbackWhaleSegmentation/releases/download/v0.1/detectron2-whale-segmentation-annotations.zip\n",
        "!unzip -q detectron2-whale-segmentation-annotations.zip -d ."
      ],
      "execution_count": null,
      "outputs": []
    },
    {
      "cell_type": "markdown",
      "metadata": {
        "id": "00zFDL8y17_8"
      },
      "source": [
        "### Set all relevant paths"
      ]
    },
    {
      "cell_type": "code",
      "metadata": {
        "colab": {
          "base_uri": "https://localhost:8080/"
        },
        "id": "KASDa32E2Aj1",
        "outputId": "5b11b7bc-79a8-40bc-e203-ea3d50a2d61b"
      },
      "source": [
        "% cd /content/HumpbackWhaleSegmentation\n",
        "\n",
        "ANNOTATIONS_FILE_NAME = 'Whale_Segmentation.json'\n",
        "DATASET_DIR = 'dataset'\n",
        "SAVE_WEIGHTS_DIR = 'model_weights'\n",
        "LOAD_WEIGHTS_DIR = 'model_weights' # change to differnt path if you are using pretrained weights\n",
        "OUTPUT_DIR = 'segmented_dataset'"
      ],
      "execution_count": 37,
      "outputs": [
        {
          "output_type": "stream",
          "name": "stdout",
          "text": [
            "/content/HumpbackWhaleSegmentation\n"
          ]
        }
      ]
    },
    {
      "cell_type": "markdown",
      "metadata": {
        "id": "MhNC3c8k2A5c"
      },
      "source": [
        "# Train Segmentation Model"
      ]
    },
    {
      "cell_type": "code",
      "metadata": {
        "id": "cqmIq7AA1b6B"
      },
      "source": [
        "% cd /content/HumpbackWhaleSegmentation\n",
        "! python run.py train -s $SAVE_WEIGHTS_DIR -a $ANNOTATIONS_FILE_NAME -d $DATASET_DIR"
      ],
      "execution_count": null,
      "outputs": []
    },
    {
      "cell_type": "markdown",
      "metadata": {
        "id": "U19xZqEo8ykT"
      },
      "source": [
        "# Load pretrained weights and preview generate segmented images"
      ]
    },
    {
      "cell_type": "code",
      "metadata": {
        "id": "HLtWUkeM84V6"
      },
      "source": [
        "% cd /content/HumpbackWhaleSegmentation\n",
        "\n",
        "!wget https://github.com/seqryan/HumpbackWhaleSegmentation/releases/download/v0.1/detectron2-whale-segmentation-weights.zip\n",
        "!unzip -q detectron2-whale-segmentation-weights.zip -d .\n",
        "\n",
        "LOAD_WEIGHTS_DIR = 'pretrained_weights' # change to differnt path if you are using pretrained weights"
      ],
      "execution_count": null,
      "outputs": []
    },
    {
      "cell_type": "code",
      "metadata": {
        "id": "ik5PR6hy865n"
      },
      "source": [
        "% cd /content/HumpbackWhaleSegmentation\n",
        "\n",
        "! python run.py save -l $SAVE_WEIGHTS_DIR -a $ANNOTATIONS_FILE_NAME -d $DATASET_DIR -o $OUTPUT_DIR\n",
        "! zip -q -r segmented_dataset.zip $OUTPUT_DIR"
      ],
      "execution_count": null,
      "outputs": []
    },
    {
      "cell_type": "markdown",
      "metadata": {
        "id": "Lu0Lrtx0Vxl4"
      },
      "source": [
        "### Preview segmented results"
      ]
    },
    {
      "cell_type": "code",
      "metadata": {
        "id": "u1UVPrlPQ0WQ"
      },
      "source": [
        "from matplotlib import pyplot as plt\n",
        "import random\n",
        "from matplotlib.pyplot import figure\n",
        "figure(num=None,figsize=(10,10),dpi=80,facecolor='w',edgecolor='k')\n",
        "images_names = os.listdir(os.path.join(OUTPUT_DIR, 'train'))\n",
        "plt.axis('off')\n",
        "\n",
        "samples = 5\n",
        "index = 0\n",
        "for d in random.sample(images_names, samples):\n",
        "  index += 1\n",
        "  ax = plt.subplot(samples, 2, index)\n",
        "  ax.imshow(cv2.imread(os.path.join(DATASET_DIR, 'train', d)))\n",
        "  ax.axis('off')\n",
        "\n",
        "  index += 1\n",
        "  ax = plt.subplot(samples, 2, index)\n",
        "  ax.imshow(cv2.imread(os.path.join(OUTPUT_DIR, 'train', d)))\n",
        "  ax.axis('off')\n",
        "\n",
        "plt.show()"
      ],
      "execution_count": null,
      "outputs": []
    }
  ]
}